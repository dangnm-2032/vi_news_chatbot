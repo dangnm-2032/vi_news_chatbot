{
 "cells": [
  {
   "cell_type": "code",
   "execution_count": 1,
   "metadata": {},
   "outputs": [],
   "source": [
    "from datasets import Dataset, disable_caching, load_from_disk, load_dataset, concatenate_datasets\n",
    "\n",
    "bltlab_ds = load_dataset('bltlab/lr-sum', 'vie')\n",
    "toanduc_ds = load_dataset('toanduc/t5-sumary-dataset')\n",
    "csebuetnlp_ds = load_dataset('csebuetnlp/xlsum', 'vietnamese')\n",
    "nlplabtdtu_ds = load_dataset('nlplabtdtu/summarization_sft_prompted')\n",
    "vietgpt_ds = load_dataset('vietgpt/news_summarization_vi')\n",
    "\n",
    "bltlab_full_ds = concatenate_datasets([bltlab_ds['train'], bltlab_ds['test'], bltlab_ds['validation']])\n",
    "toanduc_full_ds = concatenate_datasets([toanduc_ds['train']])\n",
    "csebuetnlp_full_ds = concatenate_datasets([csebuetnlp_ds['train'], csebuetnlp_ds['test'], csebuetnlp_ds['validation']])\n",
    "nlplabtdtu_full_ds = concatenate_datasets([nlplabtdtu_ds['train'], nlplabtdtu_ds['test']])\n",
    "vietgpt_full_ds = concatenate_datasets([vietgpt_ds['train'], vietgpt_ds['test']])\n",
    "\n",
    "bltlab_full_ds = bltlab_full_ds.remove_columns(['id', 'url', 'title'])\n",
    "toanduc_full_ds = toanduc_full_ds.rename_column('Original Text', 'text').rename_column('Summary', 'summary')\n",
    "csebuetnlp_full_ds = csebuetnlp_full_ds.remove_columns(['id', 'url', 'title'])\n",
    "nlplabtdtu_full_ds = nlplabtdtu_full_ds\n",
    "vietgpt_full_ds = vietgpt_full_ds.rename_column('content', 'text')\n",
    "\n",
    "full_ds = concatenate_datasets([bltlab_full_ds, toanduc_full_ds, csebuetnlp_full_ds, nlplabtdtu_full_ds, vietgpt_full_ds])\n",
    "full_ds = full_ds.shuffle(seed=42)"
   ]
  },
  {
   "cell_type": "code",
   "execution_count": 2,
   "metadata": {},
   "outputs": [
    {
     "data": {
      "text/plain": [
       "Dataset({\n",
       "    features: ['summary', 'text'],\n",
       "    num_rows: 132236\n",
       "})"
      ]
     },
     "execution_count": 2,
     "metadata": {},
     "output_type": "execute_result"
    }
   ],
   "source": [
    "full_ds"
   ]
  },
  {
   "cell_type": "code",
   "execution_count": 8,
   "metadata": {},
   "outputs": [
    {
     "data": {
      "text/plain": [
       "(14595, 2)"
      ]
     },
     "execution_count": 8,
     "metadata": {},
     "output_type": "execute_result"
    }
   ],
   "source": [
    "bltlab_full_ds.shape"
   ]
  },
  {
   "cell_type": "code",
   "execution_count": 17,
   "metadata": {},
   "outputs": [
    {
     "data": {
      "text/plain": [
       "['bltlab/lr-sum',\n",
       " 'toanduc/t5-sumary-dataset',\n",
       " 'csebuetnlp/xlsum',\n",
       " 'nlplabtdtu/summarization_sft_prompted',\n",
       " 'vietgpt/news_summarization_vi',\n",
       " 'total']"
      ]
     },
     "execution_count": 17,
     "metadata": {},
     "output_type": "execute_result"
    }
   ],
   "source": [
    "data_source = ['bltlab/lr-sum',\n",
    "               'toanduc/t5-sumary-dataset',\n",
    "               'csebuetnlp/xlsum', \n",
    "               'nlplabtdtu/summarization_sft_prompted',\n",
    "               'vietgpt/news_summarization_vi',\n",
    "               'total']\n",
    "data_source"
   ]
  },
  {
   "cell_type": "code",
   "execution_count": 18,
   "metadata": {},
   "outputs": [],
   "source": [
    "import pandas as pd"
   ]
  },
  {
   "cell_type": "code",
   "execution_count": 20,
   "metadata": {},
   "outputs": [
    {
     "data": {
      "text/plain": [
       "[14595, 9943, 40137, 1200, 66361, 132236]"
      ]
     },
     "execution_count": 20,
     "metadata": {},
     "output_type": "execute_result"
    }
   ],
   "source": [
    "data_count = [bltlab_full_ds.shape[0], \n",
    "toanduc_full_ds.shape[0], \n",
    "csebuetnlp_full_ds.shape[0], \n",
    "nlplabtdtu_full_ds.shape[0], \n",
    "vietgpt_full_ds.shape[0],\n",
    "full_ds.shape[0]]\n",
    "data_count"
   ]
  },
  {
   "cell_type": "code",
   "execution_count": 21,
   "metadata": {},
   "outputs": [
    {
     "data": {
      "text/html": [
       "<div>\n",
       "<style scoped>\n",
       "    .dataframe tbody tr th:only-of-type {\n",
       "        vertical-align: middle;\n",
       "    }\n",
       "\n",
       "    .dataframe tbody tr th {\n",
       "        vertical-align: top;\n",
       "    }\n",
       "\n",
       "    .dataframe thead th {\n",
       "        text-align: right;\n",
       "    }\n",
       "</style>\n",
       "<table border=\"1\" class=\"dataframe\">\n",
       "  <thead>\n",
       "    <tr style=\"text-align: right;\">\n",
       "      <th></th>\n",
       "      <th>source</th>\n",
       "      <th>counts of sample</th>\n",
       "    </tr>\n",
       "  </thead>\n",
       "  <tbody>\n",
       "    <tr>\n",
       "      <th>0</th>\n",
       "      <td>bltlab/lr-sum</td>\n",
       "      <td>14595</td>\n",
       "    </tr>\n",
       "    <tr>\n",
       "      <th>1</th>\n",
       "      <td>toanduc/t5-sumary-dataset</td>\n",
       "      <td>9943</td>\n",
       "    </tr>\n",
       "    <tr>\n",
       "      <th>2</th>\n",
       "      <td>csebuetnlp/xlsum</td>\n",
       "      <td>40137</td>\n",
       "    </tr>\n",
       "    <tr>\n",
       "      <th>3</th>\n",
       "      <td>nlplabtdtu/summarization_sft_prompted</td>\n",
       "      <td>1200</td>\n",
       "    </tr>\n",
       "    <tr>\n",
       "      <th>4</th>\n",
       "      <td>vietgpt/news_summarization_vi</td>\n",
       "      <td>66361</td>\n",
       "    </tr>\n",
       "    <tr>\n",
       "      <th>5</th>\n",
       "      <td>total</td>\n",
       "      <td>132236</td>\n",
       "    </tr>\n",
       "  </tbody>\n",
       "</table>\n",
       "</div>"
      ],
      "text/plain": [
       "                                  source  counts of sample\n",
       "0                          bltlab/lr-sum             14595\n",
       "1              toanduc/t5-sumary-dataset              9943\n",
       "2                       csebuetnlp/xlsum             40137\n",
       "3  nlplabtdtu/summarization_sft_prompted              1200\n",
       "4          vietgpt/news_summarization_vi             66361\n",
       "5                                  total            132236"
      ]
     },
     "execution_count": 21,
     "metadata": {},
     "output_type": "execute_result"
    }
   ],
   "source": [
    "df = pd.DataFrame({\n",
    "    'source': data_source,\n",
    "    'counts of sample': data_count\n",
    "})\n",
    "df"
   ]
  }
 ],
 "metadata": {
  "kernelspec": {
   "display_name": "base",
   "language": "python",
   "name": "python3"
  },
  "language_info": {
   "codemirror_mode": {
    "name": "ipython",
    "version": 3
   },
   "file_extension": ".py",
   "mimetype": "text/x-python",
   "name": "python",
   "nbconvert_exporter": "python",
   "pygments_lexer": "ipython3",
   "version": "3.11.5"
  }
 },
 "nbformat": 4,
 "nbformat_minor": 2
}
