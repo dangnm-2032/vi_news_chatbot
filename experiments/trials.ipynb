{
 "cells": [
  {
   "cell_type": "code",
   "execution_count": 1,
   "metadata": {},
   "outputs": [],
   "source": [
    "from datasets import load_from_disk, disable_caching\n",
    "disable_caching()"
   ]
  },
  {
   "cell_type": "code",
   "execution_count": 2,
   "metadata": {},
   "outputs": [
    {
     "data": {
      "text/plain": [
       "Dataset({\n",
       "    features: ['summary', 'text'],\n",
       "    num_rows: 132236\n",
       "})"
      ]
     },
     "execution_count": 2,
     "metadata": {},
     "output_type": "execute_result"
    }
   ],
   "source": [
    "ds = load_from_disk('/home/yuuhanase/FPTU/DAT/vi_news_chatbot/artifacts/summary_dataset')\n",
    "ds"
   ]
  },
  {
   "cell_type": "code",
   "execution_count": 3,
   "metadata": {},
   "outputs": [
    {
     "data": {
      "application/vnd.jupyter.widget-view+json": {
       "model_id": "06d640a69df240a9b926ff503494ed26",
       "version_major": 2,
       "version_minor": 0
      },
      "text/plain": [
       "Map:   0%|          | 0/132236 [00:00<?, ? examples/s]"
      ]
     },
     "metadata": {},
     "output_type": "display_data"
    },
    {
     "data": {
      "text/plain": [
       "Dataset({\n",
       "    features: ['summary', 'text', 'summary_len', 'text_len'],\n",
       "    num_rows: 132236\n",
       "})"
      ]
     },
     "execution_count": 3,
     "metadata": {},
     "output_type": "execute_result"
    }
   ],
   "source": [
    "def get_len(sample):\n",
    "    sample['summary_len'] = len(sample['summary'].split(' '))\n",
    "    sample['text_len'] = len(sample['text'].split(' '))\n",
    "    return sample\n",
    "stat_ds = ds.map(get_len)\n",
    "stat_ds"
   ]
  },
  {
   "cell_type": "code",
   "execution_count": 4,
   "metadata": {},
   "outputs": [
    {
     "data": {
      "text/plain": [
       "{'summary': 'Mizuho Corporate Bank (MHCB) và Vietcombank đã ký kết một hợp đồng hợp tác kinh doanh. MHCB sẽ mua 347,6 triệu cổ phiếu phổ thông mới của Vietcombank với giá 34.000 đồng/CP và sẽ chỉ định một đại diện giữ vị trí thành viên HĐQT của Vietcombank. Đây là giao dịch đầu tư đầu tiên của Mizuho tại Việt Nam và là giao dịch lớn nhất tại thị trường Đông Nam Á của Tập đoàn. Hợp tác giữa hai ngân hàng sẽ tăng cường hơn nữa cấu trúc của ngân hàng nhằm hỗ trợ phát triển kinh doanh cho các khách hàng của MHCB tại Việt Nam. Phạm vi hợp tác kinh doanh bao gồm: hợp tác trong các lĩnh vực về giao dịch giữa các công ty, hoạt động ngân hàng đầu tư và kinh doanh chứng khoán, từ các khoản vay cho vay liên kết đến các hoạt động thanh toán.',\n",
       " 'text': 'Cụ thể, MHCB sẽ đăng ký mua 347,6 triệu cổ phiếu phổ thông mới của Vietcombank với giá 34.000 đồng/CP và sẽ chỉ định một đại diện giữ vị trí thành viên HĐQT của Vietcombank. Theo Vietcombank, MHCB cũng sẽ là đối tác chiến lược duy nhất của Vietcombank. Giao dịch này còn phải được các cơ quan có thẩm quyền phê duyệt và số tiền mua dự kiến sẽ được thanh toán vào quý I/2012. Đây cũng là giao dịch đầu tư đầu tiên của Mizuho tại Việt Nam và là giao dịch lớn nhất tại thị trường Đông Nam Á của Tập đoàn.\\nVietcombank được thành lập năm 1962, là một trong những ngân hàng hàng đầu tại Việt Nam với tổng tài sản xấp xỉ 344,2 nghìn tỷ VND (16,5 tỷ USD) tính đến 30/6/2011 và giá trị vốn hóa 55 nghìn tỷ VND (2,6 tỷ USD) tính đến 28/9/2011. Vietcombank là ngân hàng có lợi nhuận cao nhất tại Việt Nam với lợi nhuận sau thuế đạt 4,2 nghìn tỷ VND (203 triệu USD) tại thời điểm kết thúc năm tài chính 31/12/1010. Còn MHCB cũng là một trong những ngân hàng lớn nhất ở Nhật Bản. Trong thập niên đầu tiên của thế kỷ 21, có những thời điểm, tổng tài sản của MHCB được đánh giá là đứng đầu thế giới. Và \"đứng sau\" Ngân hàng Mizuho là Tập đoàn tài chính MHCB với tổng tài sản 156,5 nghìn tỷ Yên (khoảng 2 nghìn tỷ USD) tính đến tháng 6/2011.\\nViệc Nhật Bản và Việt Nam vốn đã có quan hệ mật thiết và ngày càng mở rộng về giao thương và đầu tư được xem là một trong những \"nhân duyên\" dẫn hai ngân hàng đến với nhau. Tại Việt Nam ngày càng có nhiều khách hàng của MHCB cũng như tại Nhật ngày càng có nhiều khách hàng của Vietcombank.\\nTrong bản tin của Mizuho về sự kiện hợp tác giữa hai ngân hàng cũng có nhắc đến quan hệ Nhật - Việt, nhấn mạnh đến quan hệ chặt chẽ trong nhiều năm về thương mại, đầu tư trực tiếp và các hoạt động Hỗ trợ Phát triển Chính thức (ODA) (được viết hoa). Phía Nhật cũng đặc biệt đặt Vietcombank trong vị trí là một ngân hàng hàng đầu của một nền kinh tế mới nổi thuộc khu vực tiểu vùng sông Mê-Kông, có sự tăng trưởng kinh tế mạnh mẽ. Qua đó, Việt Nam được kỳ vọng cao là cơ hội mở rộng hoạt động kinh doanh cho các công ty Nhật Bản, đặc biệt là trong việc thực hiện các dự án cơ sở hạ tầng quy mô lớn và mở rộng thị trường tiêu thụ.\\nBản tin của MHCB cho biết, sự hợp tác giữa hai ngân hàng là một phần của chương trình tăng cường hoạt động kinh doanh ở khu vực châu Á của MHCB, nhằm cải thiện hơn nữa các dịch vụ của MHCB đối với các khách hàng Nhật Bản cũng như các khách hàng khác tại một nước mới nổi, tăng trưởng cao là Việt Nam. Sự hợp tác giữa hai ngân hàng cũng sẽ góp phần tăng cường hợp tác giữa Tập đoàn tài chính MHFG và Tập đoàn Vietcombank (Vietcombank Group). Những sự hợp tác sẽ được thực hiện không giới hạn trong các lĩnh vực về tài chính doanh nghiệp, ngân hàng đầu tư và tài chính bán lẻ.\\nMHCB đã thiết lập các chi nhánh tại Hà Nội và TP. HCM và sự hợp tác này sẽ tăng cường hơn nữa cấu trúc của ngân hàng nhằm hỗ trợ phát triển kinh doanh cho các khách hàng của MHCB tại Việt Nam thông qua cung cấp các dịch vụ thông tin khác nhau cũng như thông qua mạng lưới các văn phòng trong nước của Vietcombank.\\nĐược biết, phạm vi về hợp tác kinh doanh giữa hai ngân hàng bao gồm: hợp tác trong các lĩnh vực về giao dịch giữa các công ty, hoạt động ngân hàng đầu tư và kinh doanh chứng khoán, từ các khoản vay cho vay liên kết (đa ngân hàng tài trợ), tài trợ dự án, tài trợ thương mại cho đến các hoạt động thanh toán trên cơ sở năng lực của cả hai ngân hàng, đặc biệt là chuyên môn tài chính của MHCB, Mizuho Bank, Ltd. và Mizuho Securities Co., Ltd. (nhóm 3 công ty). Nhóm 3 công ty này sẽ cung cấp các hỗ trợ kỹ thuật cho Vietcombank thông qua đào tạo nhân sự trong các lĩnh vực sản phẩm, quản trị rủi ro và kiểm soát nội bộ.\\n',\n",
       " 'summary_len': 153,\n",
       " 'text_len': 775}"
      ]
     },
     "execution_count": 4,
     "metadata": {},
     "output_type": "execute_result"
    }
   ],
   "source": [
    "stat_ds[0]"
   ]
  },
  {
   "cell_type": "code",
   "execution_count": 5,
   "metadata": {},
   "outputs": [],
   "source": [
    "import pandas as pd"
   ]
  },
  {
   "cell_type": "code",
   "execution_count": 6,
   "metadata": {},
   "outputs": [
    {
     "data": {
      "text/html": [
       "<div>\n",
       "<style scoped>\n",
       "    .dataframe tbody tr th:only-of-type {\n",
       "        vertical-align: middle;\n",
       "    }\n",
       "\n",
       "    .dataframe tbody tr th {\n",
       "        vertical-align: top;\n",
       "    }\n",
       "\n",
       "    .dataframe thead th {\n",
       "        text-align: right;\n",
       "    }\n",
       "</style>\n",
       "<table border=\"1\" class=\"dataframe\">\n",
       "  <thead>\n",
       "    <tr style=\"text-align: right;\">\n",
       "      <th></th>\n",
       "      <th>summary</th>\n",
       "      <th>text</th>\n",
       "      <th>summary_len</th>\n",
       "      <th>text_len</th>\n",
       "    </tr>\n",
       "  </thead>\n",
       "  <tbody>\n",
       "    <tr>\n",
       "      <th>0</th>\n",
       "      <td>Mizuho Corporate Bank (MHCB) và Vietcombank đã...</td>\n",
       "      <td>Cụ thể, MHCB sẽ đăng ký mua 347,6 triệu cổ phi...</td>\n",
       "      <td>153</td>\n",
       "      <td>775</td>\n",
       "    </tr>\n",
       "    <tr>\n",
       "      <th>1</th>\n",
       "      <td>Lễ khai mạc SEA Games 26 sẽ diễn ra tại cảng K...</td>\n",
       "      <td>Lễ khai mạc sẽ diễn ra tại cảng Kuto Besak bên...</td>\n",
       "      <td>109</td>\n",
       "      <td>287</td>\n",
       "    </tr>\n",
       "    <tr>\n",
       "      <th>2</th>\n",
       "      <td>\"Có thể hai vụ doanh nghiệp tặng xe sang cho t...</td>\n",
       "      <td>Chiếc xe biển xanh của Thành ủy Đà Nẵng Liên q...</td>\n",
       "      <td>49</td>\n",
       "      <td>705</td>\n",
       "    </tr>\n",
       "    <tr>\n",
       "      <th>3</th>\n",
       "      <td>Tình trạng dừng đỗ, trông giữ xe tại các KĐT m...</td>\n",
       "      <td>Dạo qua các KĐT mới tại một số quận nội thành ...</td>\n",
       "      <td>135</td>\n",
       "      <td>830</td>\n",
       "    </tr>\n",
       "    <tr>\n",
       "      <th>4</th>\n",
       "      <td>Tổng thống Pháp, Jacques Chirac, lần đầu ...</td>\n",
       "      <td>Ông Chirac nói những ai tìm cách truyền b...</td>\n",
       "      <td>28</td>\n",
       "      <td>542</td>\n",
       "    </tr>\n",
       "    <tr>\n",
       "      <th>...</th>\n",
       "      <td>...</td>\n",
       "      <td>...</td>\n",
       "      <td>...</td>\n",
       "      <td>...</td>\n",
       "    </tr>\n",
       "    <tr>\n",
       "      <th>132231</th>\n",
       "      <td>Wabi-sabi tạo nơi trú ẩn chống nỗi ám ảnh của ...</td>\n",
       "      <td>Wabi-sabi là một phần quan trọng của thẩm mỹ h...</td>\n",
       "      <td>39</td>\n",
       "      <td>2554</td>\n",
       "    </tr>\n",
       "    <tr>\n",
       "      <th>132232</th>\n",
       "      <td>Tập 1 vòng Giấu mặt Giọng hát Việt Nhí 2014 sẽ...</td>\n",
       "      <td>Trong tập 1 vòng Giấu mặt phát sóng sắp tới, c...</td>\n",
       "      <td>115</td>\n",
       "      <td>438</td>\n",
       "    </tr>\n",
       "    <tr>\n",
       "      <th>132233</th>\n",
       "      <td>Hai trường hợp trẻ hái ăn nhiều trái sơ ri và ...</td>\n",
       "      <td>Đã có nhiều trường hợp trẻ hái ăn nhiều trái s...</td>\n",
       "      <td>82</td>\n",
       "      <td>590</td>\n",
       "    </tr>\n",
       "    <tr>\n",
       "      <th>132234</th>\n",
       "      <td>Khoảng nửa tháng qua, có 2 con bò tót đã xuất ...</td>\n",
       "      <td>Con bò này có lông chân màu trắng, mình màu đe...</td>\n",
       "      <td>63</td>\n",
       "      <td>98</td>\n",
       "    </tr>\n",
       "    <tr>\n",
       "      <th>132235</th>\n",
       "      <td>Không có thông tin chính thức về việc Louis va...</td>\n",
       "      <td>Với trận thua Wolfsburg 2-3 rạng sáng nay, MU ...</td>\n",
       "      <td>72</td>\n",
       "      <td>270</td>\n",
       "    </tr>\n",
       "  </tbody>\n",
       "</table>\n",
       "<p>132236 rows × 4 columns</p>\n",
       "</div>"
      ],
      "text/plain": [
       "                                                  summary  \\\n",
       "0       Mizuho Corporate Bank (MHCB) và Vietcombank đã...   \n",
       "1       Lễ khai mạc SEA Games 26 sẽ diễn ra tại cảng K...   \n",
       "2       \"Có thể hai vụ doanh nghiệp tặng xe sang cho t...   \n",
       "3       Tình trạng dừng đỗ, trông giữ xe tại các KĐT m...   \n",
       "4       Tổng thống Pháp, Jacques Chirac, lần đầu ...   \n",
       "...                                                   ...   \n",
       "132231  Wabi-sabi tạo nơi trú ẩn chống nỗi ám ảnh của ...   \n",
       "132232  Tập 1 vòng Giấu mặt Giọng hát Việt Nhí 2014 sẽ...   \n",
       "132233  Hai trường hợp trẻ hái ăn nhiều trái sơ ri và ...   \n",
       "132234  Khoảng nửa tháng qua, có 2 con bò tót đã xuất ...   \n",
       "132235  Không có thông tin chính thức về việc Louis va...   \n",
       "\n",
       "                                                     text  summary_len  \\\n",
       "0       Cụ thể, MHCB sẽ đăng ký mua 347,6 triệu cổ phi...          153   \n",
       "1       Lễ khai mạc sẽ diễn ra tại cảng Kuto Besak bên...          109   \n",
       "2       Chiếc xe biển xanh của Thành ủy Đà Nẵng Liên q...           49   \n",
       "3       Dạo qua các KĐT mới tại một số quận nội thành ...          135   \n",
       "4       Ông Chirac nói những ai tìm cách truyền b...           28   \n",
       "...                                                   ...          ...   \n",
       "132231  Wabi-sabi là một phần quan trọng của thẩm mỹ h...           39   \n",
       "132232  Trong tập 1 vòng Giấu mặt phát sóng sắp tới, c...          115   \n",
       "132233  Đã có nhiều trường hợp trẻ hái ăn nhiều trái s...           82   \n",
       "132234  Con bò này có lông chân màu trắng, mình màu đe...           63   \n",
       "132235  Với trận thua Wolfsburg 2-3 rạng sáng nay, MU ...           72   \n",
       "\n",
       "        text_len  \n",
       "0            775  \n",
       "1            287  \n",
       "2            705  \n",
       "3            830  \n",
       "4            542  \n",
       "...          ...  \n",
       "132231      2554  \n",
       "132232       438  \n",
       "132233       590  \n",
       "132234        98  \n",
       "132235       270  \n",
       "\n",
       "[132236 rows x 4 columns]"
      ]
     },
     "execution_count": 6,
     "metadata": {},
     "output_type": "execute_result"
    }
   ],
   "source": [
    "df = pd.DataFrame(stat_ds)\n",
    "df"
   ]
  },
  {
   "cell_type": "code",
   "execution_count": 7,
   "metadata": {},
   "outputs": [
    {
     "data": {
      "text/html": [
       "<div>\n",
       "<style scoped>\n",
       "    .dataframe tbody tr th:only-of-type {\n",
       "        vertical-align: middle;\n",
       "    }\n",
       "\n",
       "    .dataframe tbody tr th {\n",
       "        vertical-align: top;\n",
       "    }\n",
       "\n",
       "    .dataframe thead th {\n",
       "        text-align: right;\n",
       "    }\n",
       "</style>\n",
       "<table border=\"1\" class=\"dataframe\">\n",
       "  <thead>\n",
       "    <tr style=\"text-align: right;\">\n",
       "      <th></th>\n",
       "      <th>summary_len</th>\n",
       "      <th>text_len</th>\n",
       "    </tr>\n",
       "  </thead>\n",
       "  <tbody>\n",
       "    <tr>\n",
       "      <th>count</th>\n",
       "      <td>132236.000000</td>\n",
       "      <td>132236.000000</td>\n",
       "    </tr>\n",
       "    <tr>\n",
       "      <th>mean</th>\n",
       "      <td>75.271061</td>\n",
       "      <td>614.519609</td>\n",
       "    </tr>\n",
       "    <tr>\n",
       "      <th>std</th>\n",
       "      <td>52.790830</td>\n",
       "      <td>723.905467</td>\n",
       "    </tr>\n",
       "    <tr>\n",
       "      <th>min</th>\n",
       "      <td>1.000000</td>\n",
       "      <td>9.000000</td>\n",
       "    </tr>\n",
       "    <tr>\n",
       "      <th>25%</th>\n",
       "      <td>32.000000</td>\n",
       "      <td>294.000000</td>\n",
       "    </tr>\n",
       "    <tr>\n",
       "      <th>50%</th>\n",
       "      <td>57.000000</td>\n",
       "      <td>460.000000</td>\n",
       "    </tr>\n",
       "    <tr>\n",
       "      <th>75%</th>\n",
       "      <td>108.000000</td>\n",
       "      <td>729.000000</td>\n",
       "    </tr>\n",
       "    <tr>\n",
       "      <th>max</th>\n",
       "      <td>499.000000</td>\n",
       "      <td>35001.000000</td>\n",
       "    </tr>\n",
       "  </tbody>\n",
       "</table>\n",
       "</div>"
      ],
      "text/plain": [
       "         summary_len       text_len\n",
       "count  132236.000000  132236.000000\n",
       "mean       75.271061     614.519609\n",
       "std        52.790830     723.905467\n",
       "min         1.000000       9.000000\n",
       "25%        32.000000     294.000000\n",
       "50%        57.000000     460.000000\n",
       "75%       108.000000     729.000000\n",
       "max       499.000000   35001.000000"
      ]
     },
     "execution_count": 7,
     "metadata": {},
     "output_type": "execute_result"
    }
   ],
   "source": [
    "df.describe()"
   ]
  },
  {
   "cell_type": "code",
   "execution_count": 8,
   "metadata": {},
   "outputs": [
    {
     "data": {
      "text/html": [
       "<div>\n",
       "<style scoped>\n",
       "    .dataframe tbody tr th:only-of-type {\n",
       "        vertical-align: middle;\n",
       "    }\n",
       "\n",
       "    .dataframe tbody tr th {\n",
       "        vertical-align: top;\n",
       "    }\n",
       "\n",
       "    .dataframe thead th {\n",
       "        text-align: right;\n",
       "    }\n",
       "</style>\n",
       "<table border=\"1\" class=\"dataframe\">\n",
       "  <thead>\n",
       "    <tr style=\"text-align: right;\">\n",
       "      <th></th>\n",
       "      <th>summary_len</th>\n",
       "      <th>text_len</th>\n",
       "    </tr>\n",
       "  </thead>\n",
       "  <tbody>\n",
       "    <tr>\n",
       "      <th>count</th>\n",
       "      <td>96536.000000</td>\n",
       "      <td>96536.000000</td>\n",
       "    </tr>\n",
       "    <tr>\n",
       "      <th>mean</th>\n",
       "      <td>62.268749</td>\n",
       "      <td>477.188603</td>\n",
       "    </tr>\n",
       "    <tr>\n",
       "      <th>std</th>\n",
       "      <td>32.511695</td>\n",
       "      <td>278.836339</td>\n",
       "    </tr>\n",
       "    <tr>\n",
       "      <th>min</th>\n",
       "      <td>22.000000</td>\n",
       "      <td>21.000000</td>\n",
       "    </tr>\n",
       "    <tr>\n",
       "      <th>25%</th>\n",
       "      <td>33.000000</td>\n",
       "      <td>264.000000</td>\n",
       "    </tr>\n",
       "    <tr>\n",
       "      <th>50%</th>\n",
       "      <td>52.000000</td>\n",
       "      <td>414.000000</td>\n",
       "    </tr>\n",
       "    <tr>\n",
       "      <th>75%</th>\n",
       "      <td>91.000000</td>\n",
       "      <td>649.000000</td>\n",
       "    </tr>\n",
       "    <tr>\n",
       "      <th>max</th>\n",
       "      <td>128.000000</td>\n",
       "      <td>1339.000000</td>\n",
       "    </tr>\n",
       "  </tbody>\n",
       "</table>\n",
       "</div>"
      ],
      "text/plain": [
       "        summary_len      text_len\n",
       "count  96536.000000  96536.000000\n",
       "mean      62.268749    477.188603\n",
       "std       32.511695    278.836339\n",
       "min       22.000000     21.000000\n",
       "25%       33.000000    264.000000\n",
       "50%       52.000000    414.000000\n",
       "75%       91.000000    649.000000\n",
       "max      128.000000   1339.000000"
      ]
     },
     "execution_count": 8,
     "metadata": {},
     "output_type": "execute_result"
    }
   ],
   "source": [
    "df.loc[0 <= df['text_len']].loc[df['text_len'] <= 1339].loc[22<=df['summary_len']].loc[df['summary_len'] <= 128].describe()"
   ]
  },
  {
   "cell_type": "code",
   "execution_count": 9,
   "metadata": {},
   "outputs": [
    {
     "data": {
      "text/plain": [
       "array([[<Axes: title={'center': 'summary_len'}>,\n",
       "        <Axes: title={'center': 'text_len'}>]], dtype=object)"
      ]
     },
     "execution_count": 9,
     "metadata": {},
     "output_type": "execute_result"
    },
    {
     "data": {
      "image/png": "[encoded data removed]",
      "text/plain": [
       "<Figure size 640x480 with 2 Axes>"
      ]
     },
     "metadata": {},
     "output_type": "display_data"
    }
   ],
   "source": [
    "df.loc[0 <= df['text_len']].loc[df['text_len'] <= 1339].loc[22<=df['summary_len']].loc[df['summary_len'] <= 128].hist()"
   ]
  }
 ],
 "metadata": {
  "kernelspec": {
   "display_name": "base",
   "language": "python",
   "name": "python3"
  },
  "language_info": {
   "codemirror_mode": {
    "name": "ipython",
    "version": 3
   },
   "file_extension": ".py",
   "mimetype": "text/x-python",
   "name": "python",
   "nbconvert_exporter": "python",
   "pygments_lexer": "ipython3",
   "version": "3.11.5"
  }
 },
 "nbformat": 4,
 "nbformat_minor": 2
}
